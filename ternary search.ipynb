{
 "cells": [
  {
   "cell_type": "code",
   "execution_count": 10,
   "id": "0a684526",
   "metadata": {},
   "outputs": [
    {
     "name": "stdout",
     "output_type": "stream",
     "text": [
      "the elemenet found in poistion : 12\n"
     ]
    }
   ],
   "source": [
    "## ternary search using recusionfff\n",
    "f## function defination\n",
    "\n",
    "def ternarySearch(arr,i,j,target):\n",
    "    \n",
    "    ## compute the value of mid1 and mid2\n",
    "    mid1 = i+(j-i)//3\n",
    "    mid2 = j-(j-i)//3\n",
    "    \n",
    "    while i <= j:        \n",
    "        \n",
    "        if arr[mid1] == target:\n",
    "            return mid1\n",
    "        elif arr[mid2] == target:\n",
    "            return mid2\n",
    "        ## first aprt of the ternary search\n",
    "        elif target < arr[mid1]:\n",
    "            return ternarySearch(arr,i,mid1+1,target)\n",
    "        ## second aprt of the ternary search\n",
    "        elif target > arr[mid2]:\n",
    "            return ternarySearch(arr,mid2+1,j,target)\n",
    "        ## third aprt of the ternary search\n",
    "        else:\n",
    "            return ternarySearch(arr,mid1+1,mid2-1,target)\n",
    "    ## if the searching element is not found in the array\n",
    "    return -1\n",
    "\n",
    "\n",
    "## driver code\n",
    "arr=[5,7,10,12,15,20,25,30,44,49,58,60,67,80,88,96]\n",
    "\n",
    "i=0\n",
    "j=len(arr)-1\n",
    "target = 67\n",
    "\n",
    "result = ternarySearch(arr,i,j,target)\n",
    "print(\"the elemenet found in poistion :\" , result)"
   ]
  },
  {
   "cell_type": "code",
   "execution_count": null,
   "id": "13fdfaba",
   "metadata": {},
   "outputs": [],
   "source": []
  }
 ],
 "metadata": {
  "kernelspec": {
   "display_name": "Python 3 (ipykernel)",
   "language": "python",
   "name": "python3"
  },
  "language_info": {
   "codemirror_mode": {
    "name": "ipython",
    "version": 3
   },
   "file_extension": ".py",
   "mimetype": "text/x-python",
   "name": "python",
   "nbconvert_exporter": "python",
   "pygments_lexer": "ipython3",
   "version": "3.9.13"
  }
 },
 "nbformat": 4,
 "nbformat_minor": 5
}
