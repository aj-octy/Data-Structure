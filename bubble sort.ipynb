{
 "cells": [
  {
   "cell_type": "code",
   "execution_count": 5,
   "id": "825afb87",
   "metadata": {},
   "outputs": [
    {
     "name": "stdout",
     "output_type": "stream",
     "text": [
      "i: 0\n",
      "j: 0\n",
      "j: 1\n",
      "j: 2\n",
      "j: 3\n",
      "j: 4\n",
      "i: 1\n",
      "j: 0\n",
      "j: 1\n",
      "j: 2\n",
      "j: 3\n",
      "i: 2\n",
      "j: 0\n",
      "j: 1\n",
      "j: 2\n",
      "i: 3\n",
      "j: 0\n",
      "j: 1\n",
      "i: 4\n",
      "j: 0\n",
      "i: 5\n",
      "the sorted array using bubble sort [20, 35, 47, 50, 60, 70]\n"
     ]
    }
   ],
   "source": [
    "## function defination\n",
    "## Time complexity O(n^2)\n",
    "def bubbleSort(arr):\n",
    "    n=len(arr)\n",
    "    for i in range(n):\n",
    "        print(\"i:\",i)\n",
    "        for j in range(n-i-1):\n",
    "            print(\"j:\",j)\n",
    "            if arr[j] > arr[j+1]:\n",
    "                arr[j],arr[j+1] = arr[j+1],arr[j]\n",
    "    return arr\n",
    "\n",
    "## driver code\n",
    "\n",
    "arr = [70,20,50,60,35,47]\n",
    "\n",
    "result = bubbleSort(arr)\n",
    "print(\"the sorted array using bubble sort\", result)"
   ]
  },
  {
   "cell_type": "code",
   "execution_count": null,
   "id": "222754ba",
   "metadata": {},
   "outputs": [],
   "source": []
  }
 ],
 "metadata": {
  "kernelspec": {
   "display_name": "Python 3 (ipykernel)",
   "language": "python",
   "name": "python3"
  },
  "language_info": {
   "codemirror_mode": {
    "name": "ipython",
    "version": 3
   },
   "file_extension": ".py",
   "mimetype": "text/x-python",
   "name": "python",
   "nbconvert_exporter": "python",
   "pygments_lexer": "ipython3",
   "version": "3.9.13"
  }
 },
 "nbformat": 4,
 "nbformat_minor": 5
}
