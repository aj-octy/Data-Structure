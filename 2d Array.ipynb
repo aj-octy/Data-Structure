{
 "cells": [
  {
   "cell_type": "code",
   "execution_count": 15,
   "id": "5b0988c2",
   "metadata": {},
   "outputs": [
    {
     "name": "stdout",
     "output_type": "stream",
     "text": [
      "True\n"
     ]
    }
   ],
   "source": [
    "## function defination\n",
    "## time complexity O(log(m*n))\n",
    "def twoDArray(arr,target):\n",
    "    \n",
    "    #number of row\n",
    "    m = len(arr)\n",
    "    if m == 0:\n",
    "        return False\n",
    "    #number of column\n",
    "    n = len(arr[0])\n",
    "    left,right = 0,m*n-1\n",
    "    \n",
    "    ## binary search implementaion\n",
    "    while left <= right:\n",
    "        \n",
    "        mid = left + (right-left) // 2\n",
    "        ## row_number ->mid//n\n",
    "        ## column_number = mid%n\n",
    "        arr_mid = arr[mid//n][mid%n]\n",
    "        \n",
    "        if target == arr_mid:\n",
    "            return True\n",
    "        elif target > arr_mid:\n",
    "            left = mid+1\n",
    "        else:\n",
    "            right = mid-1\n",
    "            \n",
    "    return False\n",
    "\n",
    "## Driver code \n",
    "\n",
    "arr = [[1,3,5,7],[10,11,16,20],[20,30,34,60]]\n",
    "target = 60\n",
    "\n",
    "result = twoDArray(arr,target)\n",
    "print(result)"
   ]
  },
  {
   "cell_type": "code",
   "execution_count": null,
   "id": "c5d22ae7",
   "metadata": {},
   "outputs": [],
   "source": []
  },
  {
   "cell_type": "code",
   "execution_count": null,
   "id": "eda5f73f",
   "metadata": {},
   "outputs": [],
   "source": []
  },
  {
   "cell_type": "code",
   "execution_count": null,
   "id": "259ffa5b",
   "metadata": {},
   "outputs": [],
   "source": []
  }
 ],
 "metadata": {
  "kernelspec": {
   "display_name": "Python 3 (ipykernel)",
   "language": "python",
   "name": "python3"
  },
  "language_info": {
   "codemirror_mode": {
    "name": "ipython",
    "version": 3
   },
   "file_extension": ".py",
   "mimetype": "text/x-python",
   "name": "python",
   "nbconvert_exporter": "python",
   "pygments_lexer": "ipython3",
   "version": "3.9.13"
  }
 },
 "nbformat": 4,
 "nbformat_minor": 5
}
