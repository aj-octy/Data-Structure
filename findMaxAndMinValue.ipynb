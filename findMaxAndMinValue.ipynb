{
 "cells": [
  {
   "cell_type": "code",
   "execution_count": 53,
   "id": "9c17ead0",
   "metadata": {},
   "outputs": [
    {
     "name": "stdout",
     "output_type": "stream",
     "text": [
      "maximux and minmum value in the array is 92 20\n"
     ]
    }
   ],
   "source": [
    "\n",
    "## Recurrence Relation : T(n) = 2T(n/2) + c\n",
    "## Using master's Theorem: T(n) =O(n)\n",
    "## Method defination of MaxAndMin Function\n",
    "\n",
    "def findMaxAndMin(arr, i, j):\n",
    "    ## small problem  - TC - c\n",
    "    ## single element condition\n",
    "    if i==j:\n",
    "        max_val = arr[i]\n",
    "        min_val = arr[i]\n",
    "    ## two element condition\n",
    "    elif i == j - 1:\n",
    "        if arr[i] < arr[j]:\n",
    "            max_val = arr[i]\n",
    "            min_val = arr[i]\n",
    "        else:\n",
    "            max_val = arr[i]\n",
    "            min_val = arr[i]\n",
    "    ## big problem -> n > 2\n",
    "    else:\n",
    "        ## 1. Divide and Conqure approch - C\n",
    "        mid = i+(j-i)//2\n",
    "        ## 2. Recurrion -> Conqure - TC - 2T(n/2)\n",
    "        max_1 ,min_1 = findMaxAndMin(arr, i, mid)\n",
    "        max_2, min_2 = findMaxAndMin(arr, mid+1, j)\n",
    "        ## 3. Combine - C  \n",
    "        if max_1 < max_2:\n",
    "            max_val = max_2\n",
    "        else:\n",
    "            max_val = max_1\n",
    "        if min_1 < min_2:\n",
    "            min_val = min_1\n",
    "        else:\n",
    "            min_val = min_2\n",
    "    return max_val, min_val\n",
    "\n",
    "\n",
    "\n",
    "## driver code\n",
    "arr = [20, 39, 45, 65, 21, 89, 92]\n",
    "## i indicates the starting index\n",
    "i = 0\n",
    "## j indicates the ending index\n",
    "j = len(arr) - 1\n",
    "## function calling\n",
    "max_val, min_val = findMaxAndMin(arr, i, j)\n",
    "print('maximux and minmum value in the array is', max_val, min_val)\n",
    "\n",
    "\n"
   ]
  },
  {
   "cell_type": "code",
   "execution_count": null,
   "id": "d44fd4e7",
   "metadata": {},
   "outputs": [],
   "source": []
  },
  {
   "cell_type": "code",
   "execution_count": null,
   "id": "9b37cebe",
   "metadata": {},
   "outputs": [],
   "source": []
  },
  {
   "cell_type": "code",
   "execution_count": null,
   "id": "c10a0d3c",
   "metadata": {},
   "outputs": [],
   "source": []
  }
 ],
 "metadata": {
  "kernelspec": {
   "display_name": "Python 3 (ipykernel)",
   "language": "python",
   "name": "python3"
  },
  "language_info": {
   "codemirror_mode": {
    "name": "ipython",
    "version": 3
   },
   "file_extension": ".py",
   "mimetype": "text/x-python",
   "name": "python",
   "nbconvert_exporter": "python",
   "pygments_lexer": "ipython3",
   "version": "3.9.13"
  }
 },
 "nbformat": 4,
 "nbformat_minor": 5
}
