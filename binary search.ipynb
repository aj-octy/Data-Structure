{
 "cells": [
  {
   "cell_type": "markdown",
   "id": "b620171b",
   "metadata": {},
   "source": [
    "# Linear Search\n"
   ]
  },
  {
   "cell_type": "code",
   "execution_count": 2,
   "id": "5a0c6b2d",
   "metadata": {},
   "outputs": [
    {
     "name": "stdout",
     "output_type": "stream",
     "text": [
      "the search element is present on position 5\n"
     ]
    }
   ],
   "source": [
    "## Linear search\n",
    "## time complexity   O(n)\n",
    "## space complexity  constanat 1  O(1)\n",
    "## function defination\n",
    "\n",
    "def linearSearch(arr,x):\n",
    "    for i in range(len(arr)):\n",
    "        if arr[i] == x:\n",
    "            return i\n",
    "    return -1\n",
    "\n",
    "arr = [20, 45, 27, 47, 55, 67, 75, 88, 90]\n",
    "x = 67\n",
    "\n",
    "#function calling\n",
    "result = linearSearch(arr,x)\n",
    "print(\"the search element is present on position\", result)"
   ]
  },
  {
   "cell_type": "code",
   "execution_count": null,
   "id": "b1a73711",
   "metadata": {},
   "outputs": [],
   "source": []
  },
  {
   "cell_type": "markdown",
   "id": "236b726b",
   "metadata": {},
   "source": [
    "# Binary Search using itrative approch"
   ]
  },
  {
   "cell_type": "code",
   "execution_count": 51,
   "id": "da1bcb26",
   "metadata": {},
   "outputs": [
    {
     "name": "stdout",
     "output_type": "stream",
     "text": [
      "the search result using binary search is: 5\n"
     ]
    }
   ],
   "source": [
    "#Binary Search Algoritm using Itrative Approch\n",
    "#function Defination\n",
    "\n",
    "def binarySearch(arr, x, start, end):\n",
    "    while start<=end:\n",
    "        ## lower bound while division\n",
    "        mid = start + (end-start) // 2\n",
    "        if arr[mid] == x:\n",
    "            return mid\n",
    "        elif arr[mid] < x:\n",
    "            start = mid + 1\n",
    "        else:\n",
    "            end = mid -1\n",
    "     ## searching element is not present in an array\n",
    "    return -1\n",
    "\n",
    "#driver code\n",
    "arr = [20, 45, 27, 47, 55, 67, 75, 88, 90]\n",
    "x = 67\n",
    "start = 0\n",
    "end = len(arr) - 1\n",
    "\n",
    "## calling function\n",
    "\n",
    "result = binarySearch(arr, x, start, end)\n",
    "\n",
    "print(\"the search result using binary search is:\", result)"
   ]
  },
  {
   "cell_type": "code",
   "execution_count": null,
   "id": "5b0318f9",
   "metadata": {},
   "outputs": [],
   "source": []
  },
  {
   "cell_type": "code",
   "execution_count": null,
   "id": "0b2d7303",
   "metadata": {},
   "outputs": [],
   "source": []
  },
  {
   "cell_type": "markdown",
   "id": "b7adb2d3",
   "metadata": {},
   "source": [
    "# Binary Serach using Recursion Method"
   ]
  },
  {
   "cell_type": "code",
   "execution_count": null,
   "id": "25823fc2",
   "metadata": {},
   "outputs": [],
   "source": []
  },
  {
   "cell_type": "code",
   "execution_count": 50,
   "id": "60706b9e",
   "metadata": {},
   "outputs": [
    {
     "name": "stdout",
     "output_type": "stream",
     "text": [
      "the serach item is: 1\n"
     ]
    }
   ],
   "source": [
    "## Binary Search Algorithm using recursion\n",
    "#function Defination\n",
    "def binarySearchRM(arr, x, start, end):\n",
    "    while start <= end:\n",
    "        ## lower bound while division\n",
    "        mid = start + (end - start) // 2\n",
    "        if arr[mid] == x:\n",
    "            return mid\n",
    "        elif arr[mid] < x:\n",
    "            ## right side of the mid\n",
    "            ## serach space - mid+1 to j\n",
    "            ## recursion - calling the same function again inside the \n",
    "            ## method definition\n",
    "            return binarySearchRM(arr, x, mid+1, end)\n",
    "        else:\n",
    "            ## left side of the mid\n",
    "            ## search space - i to mid-1\n",
    "            return binarySearchRM(arr, x, start, mid-1)\n",
    "    ## searching element is not present in an array\n",
    "    return -1\n",
    "            \n",
    "\n",
    "\n",
    "#driver code\n",
    "arr = [20, 27, 42, 47, 55, 67, 75, 88, 90]\n",
    "x = 27\n",
    "\n",
    "start = 0\n",
    "end = len(arr) -1\n",
    "\n",
    "# function calling\n",
    "\n",
    "result = binarySearchRM(arr, x, start, end)\n",
    "\n",
    "print(\"the serach item is:\", result)\n"
   ]
  },
  {
   "cell_type": "code",
   "execution_count": null,
   "id": "aa37a571",
   "metadata": {},
   "outputs": [],
   "source": []
  },
  {
   "cell_type": "code",
   "execution_count": null,
   "id": "c35ee998",
   "metadata": {},
   "outputs": [],
   "source": []
  }
 ],
 "metadata": {
  "kernelspec": {
   "display_name": "Python 3 (ipykernel)",
   "language": "python",
   "name": "python3"
  },
  "language_info": {
   "codemirror_mode": {
    "name": "ipython",
    "version": 3
   },
   "file_extension": ".py",
   "mimetype": "text/x-python",
   "name": "python",
   "nbconvert_exporter": "python",
   "pygments_lexer": "ipython3",
   "version": "3.9.13"
  }
 },
 "nbformat": 4,
 "nbformat_minor": 5
}
