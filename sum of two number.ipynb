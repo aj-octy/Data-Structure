{
 "cells": [
  {
   "cell_type": "code",
   "execution_count": 1,
   "id": "4062e710",
   "metadata": {},
   "outputs": [
    {
     "data": {
      "text/plain": [
       "' arr=[20,40,60,80,90,120,240]\\n\\nl = 0\\nr = len(arr)-1\\n\\nt = 120\\n\\nwhile arr[l] + arr[r] == t:\\n    if arr[l] + arr[r] > t:\\n        r = r-1\\n        return l,r\\n    elif arr[l] + arr[r] < t:\\n        l = l + 1\\n        return l,r\\n    return -1 '"
      ]
     },
     "execution_count": 1,
     "metadata": {},
     "output_type": "execute_result"
    }
   ],
   "source": [
    "\"\"\" arr=[20,40,60,80,90,120,240]\n",
    "\n",
    "l = 0\n",
    "r = len(arr)-1\n",
    "\n",
    "t = 120\n",
    "\n",
    "while arr[l] + arr[r] == t:\n",
    "    if arr[l] + arr[r] > t:\n",
    "        r = r-1\n",
    "        return l,r\n",
    "    elif arr[l] + arr[r] < t:\n",
    "        l = l + 1\n",
    "        return l,r\n",
    "    return -1 \"\"\""
   ]
  },
  {
   "cell_type": "code",
   "execution_count": 4,
   "id": "119d0fc0",
   "metadata": {},
   "outputs": [
    {
     "name": "stdout",
     "output_type": "stream",
     "text": [
      "value is r : 6 value of l : 0\n",
      "value of two pointer is : None\n"
     ]
    }
   ],
   "source": [
    "# a + b = 110\n",
    "# Two Pointer Approch\n",
    "# find the two value which gives the sumnation of any number from array\n",
    "# Time Complexity O(n)\n",
    "#function defination\n",
    "\n",
    "def sumOfTwoPointer(t,l,r,arr):\n",
    "    while arr[l] <= arr[r]:\n",
    "        if arr[l] + arr[r] == t:\n",
    "            return print(\"value is r :\", r, \"value of l :\", l)\n",
    "        if arr[l] + arr[r] > t:\n",
    "            r = r-1\n",
    "        elif arr[l] + arr[r] < t:\n",
    "            l = l + 1\n",
    "    return -1\n",
    "\n",
    "#driver code\n",
    "arr = [1,20,40,60,80,90,119,240,320]\n",
    "l = 0\n",
    "r = len(arr)-1\n",
    "t = 120\n",
    "\n",
    "result = sumOfTwoPointer(t,l,r,arr)\n",
    "print(\"value of two pointer is :\", result )\n"
   ]
  },
  {
   "cell_type": "code",
   "execution_count": null,
   "id": "6aeb5607",
   "metadata": {},
   "outputs": [],
   "source": []
  },
  {
   "cell_type": "code",
   "execution_count": null,
   "id": "9e88b0c0",
   "metadata": {},
   "outputs": [],
   "source": []
  },
  {
   "cell_type": "code",
   "execution_count": null,
   "id": "531d931e",
   "metadata": {},
   "outputs": [],
   "source": []
  },
  {
   "cell_type": "code",
   "execution_count": null,
   "id": "87809cbc",
   "metadata": {},
   "outputs": [],
   "source": []
  }
 ],
 "metadata": {
  "kernelspec": {
   "display_name": "Python 3 (ipykernel)",
   "language": "python",
   "name": "python3"
  },
  "language_info": {
   "codemirror_mode": {
    "name": "ipython",
    "version": 3
   },
   "file_extension": ".py",
   "mimetype": "text/x-python",
   "name": "python",
   "nbconvert_exporter": "python",
   "pygments_lexer": "ipython3",
   "version": "3.9.13"
  }
 },
 "nbformat": 4,
 "nbformat_minor": 5
}
